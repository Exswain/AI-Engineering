{
 "cells": [
  {
   "cell_type": "code",
   "execution_count": 28,
   "metadata": {},
   "outputs": [],
   "source": [
    "import pandas as pd\n",
    "import numpy as np\n",
    "\n",
    "import keras\n",
    "from keras.models import Sequential\n",
    "from keras.layers import Dense\n",
    "\n",
    "import sklearn\n",
    "from sklearn.model_selection import train_test_split"
   ]
  },
  {
   "cell_type": "code",
   "execution_count": 29,
   "metadata": {},
   "outputs": [
    {
     "data": {
      "text/html": [
       "<div>\n",
       "<style scoped>\n",
       "    .dataframe tbody tr th:only-of-type {\n",
       "        vertical-align: middle;\n",
       "    }\n",
       "\n",
       "    .dataframe tbody tr th {\n",
       "        vertical-align: top;\n",
       "    }\n",
       "\n",
       "    .dataframe thead th {\n",
       "        text-align: right;\n",
       "    }\n",
       "</style>\n",
       "<table border=\"1\" class=\"dataframe\">\n",
       "  <thead>\n",
       "    <tr style=\"text-align: right;\">\n",
       "      <th></th>\n",
       "      <th>Cement</th>\n",
       "      <th>Blast Furnace Slag</th>\n",
       "      <th>Fly Ash</th>\n",
       "      <th>Water</th>\n",
       "      <th>Superplasticizer</th>\n",
       "      <th>Coarse Aggregate</th>\n",
       "      <th>Fine Aggregate</th>\n",
       "      <th>Age</th>\n",
       "      <th>Strength</th>\n",
       "    </tr>\n",
       "  </thead>\n",
       "  <tbody>\n",
       "    <tr>\n",
       "      <th>0</th>\n",
       "      <td>540.0</td>\n",
       "      <td>0.0</td>\n",
       "      <td>0.0</td>\n",
       "      <td>162.0</td>\n",
       "      <td>2.5</td>\n",
       "      <td>1040.0</td>\n",
       "      <td>676.0</td>\n",
       "      <td>28</td>\n",
       "      <td>79.99</td>\n",
       "    </tr>\n",
       "    <tr>\n",
       "      <th>1</th>\n",
       "      <td>540.0</td>\n",
       "      <td>0.0</td>\n",
       "      <td>0.0</td>\n",
       "      <td>162.0</td>\n",
       "      <td>2.5</td>\n",
       "      <td>1055.0</td>\n",
       "      <td>676.0</td>\n",
       "      <td>28</td>\n",
       "      <td>61.89</td>\n",
       "    </tr>\n",
       "    <tr>\n",
       "      <th>2</th>\n",
       "      <td>332.5</td>\n",
       "      <td>142.5</td>\n",
       "      <td>0.0</td>\n",
       "      <td>228.0</td>\n",
       "      <td>0.0</td>\n",
       "      <td>932.0</td>\n",
       "      <td>594.0</td>\n",
       "      <td>270</td>\n",
       "      <td>40.27</td>\n",
       "    </tr>\n",
       "    <tr>\n",
       "      <th>3</th>\n",
       "      <td>332.5</td>\n",
       "      <td>142.5</td>\n",
       "      <td>0.0</td>\n",
       "      <td>228.0</td>\n",
       "      <td>0.0</td>\n",
       "      <td>932.0</td>\n",
       "      <td>594.0</td>\n",
       "      <td>365</td>\n",
       "      <td>41.05</td>\n",
       "    </tr>\n",
       "    <tr>\n",
       "      <th>4</th>\n",
       "      <td>198.6</td>\n",
       "      <td>132.4</td>\n",
       "      <td>0.0</td>\n",
       "      <td>192.0</td>\n",
       "      <td>0.0</td>\n",
       "      <td>978.4</td>\n",
       "      <td>825.5</td>\n",
       "      <td>360</td>\n",
       "      <td>44.30</td>\n",
       "    </tr>\n",
       "  </tbody>\n",
       "</table>\n",
       "</div>"
      ],
      "text/plain": [
       "   Cement  Blast Furnace Slag  Fly Ash  Water  Superplasticizer  \\\n",
       "0   540.0                 0.0      0.0  162.0               2.5   \n",
       "1   540.0                 0.0      0.0  162.0               2.5   \n",
       "2   332.5               142.5      0.0  228.0               0.0   \n",
       "3   332.5               142.5      0.0  228.0               0.0   \n",
       "4   198.6               132.4      0.0  192.0               0.0   \n",
       "\n",
       "   Coarse Aggregate  Fine Aggregate  Age  Strength  \n",
       "0            1040.0           676.0   28     79.99  \n",
       "1            1055.0           676.0   28     61.89  \n",
       "2             932.0           594.0  270     40.27  \n",
       "3             932.0           594.0  365     41.05  \n",
       "4             978.4           825.5  360     44.30  "
      ]
     },
     "execution_count": 29,
     "metadata": {},
     "output_type": "execute_result"
    }
   ],
   "source": [
    "#Pull data\n",
    "concrete_data = pd.read_csv('https://s3-api.us-geo.objectstorage.softlayer.net/cf-courses-data/CognitiveClass/DL0101EN/labs/data/concrete_data.csv')\n",
    "concrete_data.head()"
   ]
  },
  {
   "cell_type": "code",
   "execution_count": 30,
   "metadata": {},
   "outputs": [],
   "source": [
    "concrete_data_columns = concrete_data.columns\n",
    "\n",
    "X = predictors = concrete_data[concrete_data_columns[concrete_data_columns != 'Strength']] # all columns except Strength\n",
    "y = target = concrete_data['Strength'] # Strength column"
   ]
  },
  {
   "cell_type": "code",
   "execution_count": 35,
   "metadata": {},
   "outputs": [],
   "source": [
    "X_train, X_test, y_train, y_test = train_test_split(X, y, test_size=0.3)"
   ]
  },
  {
   "cell_type": "code",
   "execution_count": 36,
   "metadata": {},
   "outputs": [
    {
     "data": {
      "text/plain": [
       "(1030, 9)"
      ]
     },
     "execution_count": 36,
     "metadata": {},
     "output_type": "execute_result"
    }
   ],
   "source": [
    "\n",
    "concrete_data.shape"
   ]
  },
  {
   "cell_type": "markdown",
   "metadata": {},
   "source": []
  },
  {
   "cell_type": "code",
   "execution_count": 37,
   "metadata": {},
   "outputs": [],
   "source": [
    "cols = predictors.shape[1]\n",
    "\n",
    "# define regression model\n",
    "def regression_model():\n",
    "    # create model\n",
    "    model = Sequential()\n",
    "    model.add(Dense(10, activation='relu', input_shape=(cols,)))\n",
    "    model.add(Dense(1))\n",
    "    \n",
    "    # compile model\n",
    "    model.compile(optimizer='adam', loss='mean_squared_error')\n",
    "    return model"
   ]
  },
  {
   "cell_type": "code",
   "execution_count": 43,
   "metadata": {},
   "outputs": [
    {
     "name": "stdout",
     "output_type": "stream",
     "text": [
      "Epoch 1/50\n",
      "721/721 [==============================] - 1s 1ms/step - loss: 38054.2439\n",
      "Epoch 2/50\n",
      "721/721 [==============================] - 0s 412us/step - loss: 5710.1107\n",
      "Epoch 3/50\n",
      "721/721 [==============================] - 0s 421us/step - loss: 4031.4946\n",
      "Epoch 4/50\n",
      "721/721 [==============================] - 0s 408us/step - loss: 3614.2287\n",
      "Epoch 5/50\n",
      "721/721 [==============================] - 0s 416us/step - loss: 3280.5023\n",
      "Epoch 6/50\n",
      "721/721 [==============================] - 0s 439us/step - loss: 2990.0141\n",
      "Epoch 7/50\n",
      "721/721 [==============================] - 0s 362us/step - loss: 2713.6502\n",
      "Epoch 8/50\n",
      "721/721 [==============================] - 0s 523us/step - loss: 2464.4744\n",
      "Epoch 9/50\n",
      "721/721 [==============================] - 0s 497us/step - loss: 2220.5379\n",
      "Epoch 10/50\n",
      "721/721 [==============================] - 0s 639us/step - loss: 2017.1703\n",
      "Epoch 11/50\n",
      "721/721 [==============================] - 0s 413us/step - loss: 1842.5057\n",
      "Epoch 12/50\n",
      "721/721 [==============================] - 0s 410us/step - loss: 1694.3732\n",
      "Epoch 13/50\n",
      "721/721 [==============================] - 0s 365us/step - loss: 1558.1316\n",
      "Epoch 14/50\n",
      "721/721 [==============================] - 0s 489us/step - loss: 1440.6247\n",
      "Epoch 15/50\n",
      "721/721 [==============================] - 0s 440us/step - loss: 1341.5336\n",
      "Epoch 16/50\n",
      "721/721 [==============================] - 0s 388us/step - loss: 1249.7190\n",
      "Epoch 17/50\n",
      "721/721 [==============================] - 0s 389us/step - loss: 1163.4137\n",
      "Epoch 18/50\n",
      "721/721 [==============================] - 0s 445us/step - loss: 1091.9321\n",
      "Epoch 19/50\n",
      "721/721 [==============================] - 0s 418us/step - loss: 1020.2248\n",
      "Epoch 20/50\n",
      "721/721 [==============================] - 0s 388us/step - loss: 958.9056\n",
      "Epoch 21/50\n",
      "721/721 [==============================] - 0s 388us/step - loss: 897.3916\n",
      "Epoch 22/50\n",
      "721/721 [==============================] - 0s 389us/step - loss: 839.9059\n",
      "Epoch 23/50\n",
      "721/721 [==============================] - 0s 362us/step - loss: 789.1321\n",
      "Epoch 24/50\n",
      "721/721 [==============================] - 0s 411us/step - loss: 740.6962\n",
      "Epoch 25/50\n",
      "721/721 [==============================] - 0s 477us/step - loss: 696.4632\n",
      "Epoch 26/50\n",
      "721/721 [==============================] - 0s 382us/step - loss: 656.7680\n",
      "Epoch 27/50\n",
      "721/721 [==============================] - 0s 417us/step - loss: 620.0735\n",
      "Epoch 28/50\n",
      "721/721 [==============================] - 0s 414us/step - loss: 590.2104\n",
      "Epoch 29/50\n",
      "721/721 [==============================] - 0s 643us/step - loss: 560.1056\n",
      "Epoch 30/50\n",
      "721/721 [==============================] - 0s 410us/step - loss: 536.4882\n",
      "Epoch 31/50\n",
      "721/721 [==============================] - 0s 415us/step - loss: 517.7881\n",
      "Epoch 32/50\n",
      "721/721 [==============================] - 0s 387us/step - loss: 490.2516\n",
      "Epoch 33/50\n",
      "721/721 [==============================] - 0s 413us/step - loss: 474.1600\n",
      "Epoch 34/50\n",
      "721/721 [==============================] - 0s 467us/step - loss: 452.8942\n",
      "Epoch 35/50\n",
      "721/721 [==============================] - 0s 388us/step - loss: 434.8048\n",
      "Epoch 36/50\n",
      "721/721 [==============================] - 0s 393us/step - loss: 417.5399\n",
      "Epoch 37/50\n",
      "721/721 [==============================] - 0s 363us/step - loss: 406.3282\n",
      "Epoch 38/50\n",
      "721/721 [==============================] - 0s 394us/step - loss: 390.1801\n",
      "Epoch 39/50\n",
      "721/721 [==============================] - 0s 445us/step - loss: 376.1177\n",
      "Epoch 40/50\n",
      "721/721 [==============================] - 0s 389us/step - loss: 363.2756\n",
      "Epoch 41/50\n",
      "721/721 [==============================] - 0s 466us/step - loss: 352.1293\n",
      "Epoch 42/50\n",
      "721/721 [==============================] - 0s 443us/step - loss: 340.6911\n",
      "Epoch 43/50\n",
      "721/721 [==============================] - 0s 444us/step - loss: 331.5890\n",
      "Epoch 44/50\n",
      "721/721 [==============================] - 0s 389us/step - loss: 321.4148\n",
      "Epoch 45/50\n",
      "721/721 [==============================] - 0s 366us/step - loss: 314.0757\n",
      "Epoch 46/50\n",
      "721/721 [==============================] - 0s 443us/step - loss: 306.7196\n",
      "Epoch 47/50\n",
      "721/721 [==============================] - 0s 414us/step - loss: 295.4648\n",
      "Epoch 48/50\n",
      "721/721 [==============================] - 0s 413us/step - loss: 288.0599\n",
      "Epoch 49/50\n",
      "721/721 [==============================] - 0s 363us/step - loss: 281.0171\n",
      "Epoch 50/50\n",
      "721/721 [==============================] - 0s 362us/step - loss: 276.9558\n"
     ]
    },
    {
     "data": {
      "text/plain": [
       "<keras.callbacks.History at 0x7fd3c863d6d8>"
      ]
     },
     "execution_count": 43,
     "metadata": {},
     "output_type": "execute_result"
    }
   ],
   "source": [
    "# Build model\n",
    "model = regression_model()\n",
    "\n",
    "model.fit(X_train, y_train, epochs=50)"
   ]
  },
  {
   "cell_type": "code",
   "execution_count": 49,
   "metadata": {},
   "outputs": [
    {
     "name": "stdout",
     "output_type": "stream",
     "text": [
      "309/309 [==============================] - 0s 126us/step\n",
      "Accuracy: 303.67462177955605 \n",
      "Error: -30267.462177955604\n"
     ]
    }
   ],
   "source": [
    "from sklearn.metrics import mean_squared_error\n",
    "\n",
    "score = model.evaluate(X_test, y_test)\n",
    "print(\"Accuracy: {} \\nError: {}\".format(score, 100-score*100))"
   ]
  },
  {
   "cell_type": "code",
   "execution_count": null,
   "metadata": {},
   "outputs": [],
   "source": [
    "#Mean squared Error\n"
   ]
  },
  {
   "cell_type": "code",
   "execution_count": null,
   "metadata": {},
   "outputs": [],
   "source": [
    "model.fit(X_test, y_test, epochs=50)"
   ]
  },
  {
   "cell_type": "code",
   "execution_count": null,
   "metadata": {},
   "outputs": [],
   "source": [
    "score = model.evaluate(X_test, y_test)\n",
    "print(\"Accuracy: {} \\nError: {}\".format(score, 100-score*100))"
   ]
  }
 ],
 "metadata": {
  "kernelspec": {
   "display_name": "Python",
   "language": "python",
   "name": "conda-env-python-py"
  },
  "language_info": {
   "codemirror_mode": {
    "name": "ipython",
    "version": 3
   },
   "file_extension": ".py",
   "mimetype": "text/x-python",
   "name": "python",
   "nbconvert_exporter": "python",
   "pygments_lexer": "ipython3",
   "version": "3.6.10"
  }
 },
 "nbformat": 4,
 "nbformat_minor": 4
}
